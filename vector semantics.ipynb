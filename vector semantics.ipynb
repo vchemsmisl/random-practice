{
 "cells": [
  {
   "cell_type": "code",
   "execution_count": 5,
   "id": "df382c1c",
   "metadata": {},
   "outputs": [],
   "source": [
    "# 1. сравнить вектора слов в двух версиях ВИМ\n",
    "# 2. проверить (с помощью LSA) близость частей ВИМ в двух версиях"
   ]
  },
  {
   "cell_type": "markdown",
   "id": "7788bd99",
   "metadata": {},
   "source": [
    "***Здесь я делаю придуманные самим же мной упражнения с применением Word2Vec и LSA. Сами идеи, которые я пытался реализовать, оказались (по большей части) концептуально неудачными, что я понял уже только после написания алгоритмов, но зато я смог потренироваться.***"
   ]
  },
  {
   "cell_type": "markdown",
   "id": "9354214d",
   "metadata": {},
   "source": [
    "**1. Вектора слов**"
   ]
  },
  {
   "cell_type": "markdown",
   "id": "ec9b2932",
   "metadata": {},
   "source": [
    "Стало интересно взять одинаковый набор текстов и сравнить векторы слов с их переводными вариантами. В качестве набора текстов — 4 тома \"Войны и мира\" на рус. и англ. \n",
    "Однако стоит учитывать некоторые допущения: \n",
    "- неизвестно, насколько \"дословен\" английский перевод;\n",
    "- в английской версии переведены французские реплики."
   ]
  },
  {
   "cell_type": "code",
   "execution_count": 2,
   "id": "a111ed2f",
   "metadata": {},
   "outputs": [
    {
     "name": "stdout",
     "output_type": "stream",
     "text": [
      "Collecting spacy\n",
      "  Downloading spacy-3.6.1-cp310-cp310-win_amd64.whl (12.0 MB)\n",
      "     ---------------------------------------- 12.0/12.0 MB 2.2 MB/s eta 0:00:00\n",
      "Collecting pydantic!=1.8,!=1.8.1,<3.0.0,>=1.7.4\n",
      "  Downloading pydantic-2.1.1-py3-none-any.whl (370 kB)\n",
      "     -------------------------------------- 370.9/370.9 kB 2.9 MB/s eta 0:00:00\n",
      "Collecting thinc<8.2.0,>=8.1.8\n",
      "  Downloading thinc-8.1.12-cp310-cp310-win_amd64.whl (1.5 MB)\n",
      "     ---------------------------------------- 1.5/1.5 MB 2.9 MB/s eta 0:00:00\n",
      "Collecting murmurhash<1.1.0,>=0.28.0\n",
      "  Using cached murmurhash-1.0.9-cp310-cp310-win_amd64.whl (18 kB)\n",
      "Collecting cymem<2.1.0,>=2.0.2\n",
      "  Using cached cymem-2.0.7-cp310-cp310-win_amd64.whl (29 kB)\n",
      "Collecting spacy-legacy<3.1.0,>=3.0.11\n",
      "  Using cached spacy_legacy-3.0.12-py2.py3-none-any.whl (29 kB)\n",
      "Requirement already satisfied: tqdm<5.0.0,>=4.38.0 in c:\\users\\vchemsmisl\\anaconda3\\lib\\site-packages (from spacy) (4.64.1)\n",
      "Collecting srsly<3.0.0,>=2.4.3\n",
      "  Downloading srsly-2.4.7-cp310-cp310-win_amd64.whl (481 kB)\n",
      "     -------------------------------------- 481.6/481.6 kB 2.3 MB/s eta 0:00:00\n",
      "Collecting spacy-loggers<2.0.0,>=1.0.0\n",
      "  Using cached spacy_loggers-1.0.4-py3-none-any.whl (11 kB)\n",
      "Requirement already satisfied: requests<3.0.0,>=2.13.0 in c:\\users\\vchemsmisl\\anaconda3\\lib\\site-packages (from spacy) (2.28.1)\n",
      "Collecting wasabi<1.2.0,>=0.9.1\n",
      "  Using cached wasabi-1.1.2-py3-none-any.whl (27 kB)\n",
      "Collecting pathy>=0.10.0\n",
      "  Using cached pathy-0.10.2-py3-none-any.whl (48 kB)\n",
      "Requirement already satisfied: jinja2 in c:\\users\\vchemsmisl\\anaconda3\\lib\\site-packages (from spacy) (3.1.2)\n",
      "Collecting typer<0.10.0,>=0.3.0\n",
      "  Using cached typer-0.9.0-py3-none-any.whl (45 kB)\n",
      "Requirement already satisfied: numpy>=1.15.0 in c:\\users\\vchemsmisl\\anaconda3\\lib\\site-packages (from spacy) (1.23.5)\n",
      "Requirement already satisfied: setuptools in c:\\users\\vchemsmisl\\anaconda3\\lib\\site-packages (from spacy) (65.6.3)\n",
      "Collecting catalogue<2.1.0,>=2.0.6\n",
      "  Downloading catalogue-2.0.9-py3-none-any.whl (17 kB)\n",
      "Requirement already satisfied: smart-open<7.0.0,>=5.2.1 in c:\\users\\vchemsmisl\\anaconda3\\lib\\site-packages (from spacy) (5.2.1)\n",
      "Collecting langcodes<4.0.0,>=3.2.0\n",
      "  Using cached langcodes-3.3.0-py3-none-any.whl (181 kB)\n",
      "Requirement already satisfied: packaging>=20.0 in c:\\users\\vchemsmisl\\anaconda3\\lib\\site-packages (from spacy) (22.0)\n",
      "Collecting preshed<3.1.0,>=3.0.2\n",
      "  Using cached preshed-3.0.8-cp310-cp310-win_amd64.whl (94 kB)\n",
      "Collecting typing-extensions>=4.6.1\n",
      "  Using cached typing_extensions-4.7.1-py3-none-any.whl (33 kB)\n",
      "Collecting annotated-types>=0.4.0\n",
      "  Downloading annotated_types-0.5.0-py3-none-any.whl (11 kB)\n",
      "Collecting pydantic-core==2.4.0\n",
      "  Downloading pydantic_core-2.4.0-cp310-none-win_amd64.whl (1.7 MB)\n",
      "     ---------------------------------------- 1.7/1.7 MB 2.5 MB/s eta 0:00:00\n",
      "Requirement already satisfied: urllib3<1.27,>=1.21.1 in c:\\users\\vchemsmisl\\anaconda3\\lib\\site-packages (from requests<3.0.0,>=2.13.0->spacy) (1.26.14)\n",
      "Requirement already satisfied: certifi>=2017.4.17 in c:\\users\\vchemsmisl\\anaconda3\\lib\\site-packages (from requests<3.0.0,>=2.13.0->spacy) (2022.12.7)\n",
      "Requirement already satisfied: idna<4,>=2.5 in c:\\users\\vchemsmisl\\anaconda3\\lib\\site-packages (from requests<3.0.0,>=2.13.0->spacy) (3.4)\n",
      "Requirement already satisfied: charset-normalizer<3,>=2 in c:\\users\\vchemsmisl\\anaconda3\\lib\\site-packages (from requests<3.0.0,>=2.13.0->spacy) (2.0.4)\n",
      "Collecting confection<1.0.0,>=0.0.1\n",
      "  Downloading confection-0.1.1-py3-none-any.whl (34 kB)\n",
      "Collecting blis<0.8.0,>=0.7.8\n",
      "  Downloading blis-0.7.10-cp310-cp310-win_amd64.whl (7.4 MB)\n",
      "     ---------------------------------------- 7.4/7.4 MB 2.0 MB/s eta 0:00:00\n",
      "Requirement already satisfied: colorama in c:\\users\\vchemsmisl\\anaconda3\\lib\\site-packages (from tqdm<5.0.0,>=4.38.0->spacy) (0.4.6)\n",
      "Requirement already satisfied: click<9.0.0,>=7.1.1 in c:\\users\\vchemsmisl\\anaconda3\\lib\\site-packages (from typer<0.10.0,>=0.3.0->spacy) (8.0.4)\n",
      "Requirement already satisfied: MarkupSafe>=2.0 in c:\\users\\vchemsmisl\\anaconda3\\lib\\site-packages (from jinja2->spacy) (2.1.1)\n",
      "Installing collected packages: cymem, wasabi, typing-extensions, spacy-loggers, spacy-legacy, murmurhash, langcodes, catalogue, blis, annotated-types, typer, srsly, pydantic-core, preshed, pydantic, pathy, confection, thinc, spacy\n",
      "  Attempting uninstall: typing-extensions\n",
      "    Found existing installation: typing_extensions 4.4.0\n",
      "    Uninstalling typing_extensions-4.4.0:\n",
      "      Successfully uninstalled typing_extensions-4.4.0\n",
      "Successfully installed annotated-types-0.5.0 blis-0.7.10 catalogue-2.0.9 confection-0.1.1 cymem-2.0.7 langcodes-3.3.0 murmurhash-1.0.9 pathy-0.10.2 preshed-3.0.8 pydantic-2.1.1 pydantic-core-2.4.0 spacy-3.6.1 spacy-legacy-3.0.12 spacy-loggers-1.0.4 srsly-2.4.7 thinc-8.1.12 typer-0.9.0 typing-extensions-4.7.1 wasabi-1.1.2\n"
     ]
    }
   ],
   "source": [
    "!pip install spacy"
   ]
  },
  {
   "cell_type": "code",
   "execution_count": 4,
   "id": "cf53ff4f",
   "metadata": {},
   "outputs": [
    {
     "name": "stdout",
     "output_type": "stream",
     "text": [
      "Requirement already satisfied: gensim in c:\\users\\vchemsmisl\\anaconda3\\lib\\site-packages (4.3.0)\n",
      "Collecting FuzzyTM>=0.4.0\n",
      "  Downloading FuzzyTM-2.0.5-py3-none-any.whl (29 kB)\n",
      "Requirement already satisfied: scipy>=1.7.0 in c:\\users\\vchemsmisl\\anaconda3\\lib\\site-packages (from gensim) (1.10.0)\n",
      "Requirement already satisfied: numpy>=1.18.5 in c:\\users\\vchemsmisl\\anaconda3\\lib\\site-packages (from gensim) (1.23.5)\n",
      "Requirement already satisfied: smart-open>=1.8.1 in c:\\users\\vchemsmisl\\anaconda3\\lib\\site-packages (from gensim) (5.2.1)\n",
      "Requirement already satisfied: pandas in c:\\users\\vchemsmisl\\anaconda3\\lib\\site-packages (from FuzzyTM>=0.4.0->gensim) (1.5.3)\n",
      "Collecting pyfume\n",
      "  Downloading pyFUME-0.2.25-py3-none-any.whl (67 kB)\n",
      "     -------------------------------------- 67.1/67.1 kB 729.3 kB/s eta 0:00:00\n",
      "Requirement already satisfied: pytz>=2020.1 in c:\\users\\vchemsmisl\\anaconda3\\lib\\site-packages (from pandas->FuzzyTM>=0.4.0->gensim) (2022.7)\n",
      "Requirement already satisfied: python-dateutil>=2.8.1 in c:\\users\\vchemsmisl\\anaconda3\\lib\\site-packages (from pandas->FuzzyTM>=0.4.0->gensim) (2.8.2)\n",
      "Collecting simpful\n",
      "  Downloading simpful-2.11.0-py3-none-any.whl (32 kB)\n",
      "Collecting fst-pso\n",
      "  Downloading fst-pso-1.8.1.tar.gz (18 kB)\n",
      "  Preparing metadata (setup.py): started\n",
      "  Preparing metadata (setup.py): finished with status 'done'\n",
      "Requirement already satisfied: six>=1.5 in c:\\users\\vchemsmisl\\anaconda3\\lib\\site-packages (from python-dateutil>=2.8.1->pandas->FuzzyTM>=0.4.0->gensim) (1.16.0)\n",
      "Collecting miniful\n",
      "  Downloading miniful-0.0.6.tar.gz (2.8 kB)\n",
      "  Preparing metadata (setup.py): started\n",
      "  Preparing metadata (setup.py): finished with status 'done'\n",
      "Building wheels for collected packages: fst-pso, miniful\n",
      "  Building wheel for fst-pso (setup.py): started\n",
      "  Building wheel for fst-pso (setup.py): finished with status 'done'\n",
      "  Created wheel for fst-pso: filename=fst_pso-1.8.1-py3-none-any.whl size=20448 sha256=9246d44d06a52009fe19c93b1a065f58cce4f4a4ed595370143563c026e4d4c3\n",
      "  Stored in directory: c:\\users\\vchemsmisl\\appdata\\local\\pip\\cache\\wheels\\01\\02\\ee\\df0699282986903a384b69aab4413af9efd26b3612b5dccc9e\n",
      "  Building wheel for miniful (setup.py): started\n",
      "  Building wheel for miniful (setup.py): finished with status 'done'\n",
      "  Created wheel for miniful: filename=miniful-0.0.6-py3-none-any.whl size=3522 sha256=a49caab1e12b2cda648d7093d7097d74de750723990c2c28f55f00dfab106b5b\n",
      "  Stored in directory: c:\\users\\vchemsmisl\\appdata\\local\\pip\\cache\\wheels\\43\\aa\\48\\5c66b931ff013ad19774081aa19656637af5c0cc33b5494b30\n",
      "Successfully built fst-pso miniful\n",
      "Installing collected packages: simpful, miniful, fst-pso, pyfume, FuzzyTM\n",
      "Successfully installed FuzzyTM-2.0.5 fst-pso-1.8.1 miniful-0.0.6 pyfume-0.2.25 simpful-2.11.0\n"
     ]
    }
   ],
   "source": [
    "!pip install gensim"
   ]
  },
  {
   "cell_type": "code",
   "execution_count": 18,
   "id": "16cdc2d8",
   "metadata": {},
   "outputs": [
    {
     "name": "stdout",
     "output_type": "stream",
     "text": [
      "Collecting en-core-web-sm==3.6.0\n",
      "  Downloading https://github.com/explosion/spacy-models/releases/download/en_core_web_sm-3.6.0/en_core_web_sm-3.6.0-py3-none-any.whl (12.8 MB)\n",
      "     ---------------------------------------- 12.8/12.8 MB 2.0 MB/s eta 0:00:00\n",
      "Requirement already satisfied: spacy<3.7.0,>=3.6.0 in c:\\users\\vchemsmisl\\anaconda3\\lib\\site-packages (from en-core-web-sm==3.6.0) (3.6.1)\n",
      "Requirement already satisfied: wasabi<1.2.0,>=0.9.1 in c:\\users\\vchemsmisl\\anaconda3\\lib\\site-packages (from spacy<3.7.0,>=3.6.0->en-core-web-sm==3.6.0) (1.1.2)\n",
      "Requirement already satisfied: srsly<3.0.0,>=2.4.3 in c:\\users\\vchemsmisl\\anaconda3\\lib\\site-packages (from spacy<3.7.0,>=3.6.0->en-core-web-sm==3.6.0) (2.4.7)\n",
      "Requirement already satisfied: pydantic!=1.8,!=1.8.1,<3.0.0,>=1.7.4 in c:\\users\\vchemsmisl\\anaconda3\\lib\\site-packages (from spacy<3.7.0,>=3.6.0->en-core-web-sm==3.6.0) (2.1.1)\n",
      "Requirement already satisfied: tqdm<5.0.0,>=4.38.0 in c:\\users\\vchemsmisl\\anaconda3\\lib\\site-packages (from spacy<3.7.0,>=3.6.0->en-core-web-sm==3.6.0) (4.64.1)\n",
      "Requirement already satisfied: jinja2 in c:\\users\\vchemsmisl\\anaconda3\\lib\\site-packages (from spacy<3.7.0,>=3.6.0->en-core-web-sm==3.6.0) (3.1.2)\n",
      "Requirement already satisfied: requests<3.0.0,>=2.13.0 in c:\\users\\vchemsmisl\\anaconda3\\lib\\site-packages (from spacy<3.7.0,>=3.6.0->en-core-web-sm==3.6.0) (2.28.1)\n",
      "Requirement already satisfied: smart-open<7.0.0,>=5.2.1 in c:\\users\\vchemsmisl\\anaconda3\\lib\\site-packages (from spacy<3.7.0,>=3.6.0->en-core-web-sm==3.6.0) (5.2.1)\n",
      "Requirement already satisfied: numpy>=1.15.0 in c:\\users\\vchemsmisl\\anaconda3\\lib\\site-packages (from spacy<3.7.0,>=3.6.0->en-core-web-sm==3.6.0) (1.23.5)\n",
      "Requirement already satisfied: murmurhash<1.1.0,>=0.28.0 in c:\\users\\vchemsmisl\\anaconda3\\lib\\site-packages (from spacy<3.7.0,>=3.6.0->en-core-web-sm==3.6.0) (1.0.9)\n",
      "Requirement already satisfied: setuptools in c:\\users\\vchemsmisl\\anaconda3\\lib\\site-packages (from spacy<3.7.0,>=3.6.0->en-core-web-sm==3.6.0) (65.6.3)\n",
      "Requirement already satisfied: thinc<8.2.0,>=8.1.8 in c:\\users\\vchemsmisl\\anaconda3\\lib\\site-packages (from spacy<3.7.0,>=3.6.0->en-core-web-sm==3.6.0) (8.1.12)\n",
      "Requirement already satisfied: catalogue<2.1.0,>=2.0.6 in c:\\users\\vchemsmisl\\anaconda3\\lib\\site-packages (from spacy<3.7.0,>=3.6.0->en-core-web-sm==3.6.0) (2.0.9)\n",
      "Requirement already satisfied: pathy>=0.10.0 in c:\\users\\vchemsmisl\\anaconda3\\lib\\site-packages (from spacy<3.7.0,>=3.6.0->en-core-web-sm==3.6.0) (0.10.2)\n",
      "Requirement already satisfied: cymem<2.1.0,>=2.0.2 in c:\\users\\vchemsmisl\\anaconda3\\lib\\site-packages (from spacy<3.7.0,>=3.6.0->en-core-web-sm==3.6.0) (2.0.7)\n",
      "Requirement already satisfied: preshed<3.1.0,>=3.0.2 in c:\\users\\vchemsmisl\\anaconda3\\lib\\site-packages (from spacy<3.7.0,>=3.6.0->en-core-web-sm==3.6.0) (3.0.8)\n",
      "Requirement already satisfied: packaging>=20.0 in c:\\users\\vchemsmisl\\anaconda3\\lib\\site-packages (from spacy<3.7.0,>=3.6.0->en-core-web-sm==3.6.0) (22.0)\n",
      "Requirement already satisfied: spacy-loggers<2.0.0,>=1.0.0 in c:\\users\\vchemsmisl\\anaconda3\\lib\\site-packages (from spacy<3.7.0,>=3.6.0->en-core-web-sm==3.6.0) (1.0.4)\n",
      "Requirement already satisfied: typer<0.10.0,>=0.3.0 in c:\\users\\vchemsmisl\\anaconda3\\lib\\site-packages (from spacy<3.7.0,>=3.6.0->en-core-web-sm==3.6.0) (0.9.0)\n",
      "Requirement already satisfied: langcodes<4.0.0,>=3.2.0 in c:\\users\\vchemsmisl\\anaconda3\\lib\\site-packages (from spacy<3.7.0,>=3.6.0->en-core-web-sm==3.6.0) (3.3.0)\n",
      "Requirement already satisfied: spacy-legacy<3.1.0,>=3.0.11 in c:\\users\\vchemsmisl\\anaconda3\\lib\\site-packages (from spacy<3.7.0,>=3.6.0->en-core-web-sm==3.6.0) (3.0.12)\n",
      "Requirement already satisfied: typing-extensions>=4.6.1 in c:\\users\\vchemsmisl\\anaconda3\\lib\\site-packages (from pydantic!=1.8,!=1.8.1,<3.0.0,>=1.7.4->spacy<3.7.0,>=3.6.0->en-core-web-sm==3.6.0) (4.7.1)\n",
      "Requirement already satisfied: pydantic-core==2.4.0 in c:\\users\\vchemsmisl\\anaconda3\\lib\\site-packages (from pydantic!=1.8,!=1.8.1,<3.0.0,>=1.7.4->spacy<3.7.0,>=3.6.0->en-core-web-sm==3.6.0) (2.4.0)\n",
      "Requirement already satisfied: annotated-types>=0.4.0 in c:\\users\\vchemsmisl\\anaconda3\\lib\\site-packages (from pydantic!=1.8,!=1.8.1,<3.0.0,>=1.7.4->spacy<3.7.0,>=3.6.0->en-core-web-sm==3.6.0) (0.5.0)\n",
      "Requirement already satisfied: certifi>=2017.4.17 in c:\\users\\vchemsmisl\\anaconda3\\lib\\site-packages (from requests<3.0.0,>=2.13.0->spacy<3.7.0,>=3.6.0->en-core-web-sm==3.6.0) (2022.12.7)\n",
      "Requirement already satisfied: urllib3<1.27,>=1.21.1 in c:\\users\\vchemsmisl\\anaconda3\\lib\\site-packages (from requests<3.0.0,>=2.13.0->spacy<3.7.0,>=3.6.0->en-core-web-sm==3.6.0) (1.26.14)\n",
      "Requirement already satisfied: charset-normalizer<3,>=2 in c:\\users\\vchemsmisl\\anaconda3\\lib\\site-packages (from requests<3.0.0,>=2.13.0->spacy<3.7.0,>=3.6.0->en-core-web-sm==3.6.0) (2.0.4)\n",
      "Requirement already satisfied: idna<4,>=2.5 in c:\\users\\vchemsmisl\\anaconda3\\lib\\site-packages (from requests<3.0.0,>=2.13.0->spacy<3.7.0,>=3.6.0->en-core-web-sm==3.6.0) (3.4)\n",
      "Requirement already satisfied: confection<1.0.0,>=0.0.1 in c:\\users\\vchemsmisl\\anaconda3\\lib\\site-packages (from thinc<8.2.0,>=8.1.8->spacy<3.7.0,>=3.6.0->en-core-web-sm==3.6.0) (0.1.1)\n",
      "Requirement already satisfied: blis<0.8.0,>=0.7.8 in c:\\users\\vchemsmisl\\anaconda3\\lib\\site-packages (from thinc<8.2.0,>=8.1.8->spacy<3.7.0,>=3.6.0->en-core-web-sm==3.6.0) (0.7.10)\n",
      "Requirement already satisfied: colorama in c:\\users\\vchemsmisl\\anaconda3\\lib\\site-packages (from tqdm<5.0.0,>=4.38.0->spacy<3.7.0,>=3.6.0->en-core-web-sm==3.6.0) (0.4.6)\n",
      "Requirement already satisfied: click<9.0.0,>=7.1.1 in c:\\users\\vchemsmisl\\anaconda3\\lib\\site-packages (from typer<0.10.0,>=0.3.0->spacy<3.7.0,>=3.6.0->en-core-web-sm==3.6.0) (8.0.4)\n",
      "Requirement already satisfied: MarkupSafe>=2.0 in c:\\users\\vchemsmisl\\anaconda3\\lib\\site-packages (from jinja2->spacy<3.7.0,>=3.6.0->en-core-web-sm==3.6.0) (2.1.1)\n",
      "Installing collected packages: en-core-web-sm\n",
      "Successfully installed en-core-web-sm-3.6.0\n",
      "\u001b[38;5;2m[+] Download and installation successful\u001b[0m\n",
      "You can now load the package via spacy.load('en_core_web_sm')\n"
     ]
    }
   ],
   "source": [
    "!python -m spacy download en_core_web_sm"
   ]
  },
  {
   "cell_type": "code",
   "execution_count": 48,
   "id": "1cf6a4af",
   "metadata": {},
   "outputs": [
    {
     "name": "stdout",
     "output_type": "stream",
     "text": [
      "Collecting ru-core-news-sm==3.6.0\n",
      "  Downloading https://github.com/explosion/spacy-models/releases/download/ru_core_news_sm-3.6.0/ru_core_news_sm-3.6.0-py3-none-any.whl (15.3 MB)\n",
      "     ---------------------------------------- 15.3/15.3 MB 2.6 MB/s eta 0:00:00\n",
      "Requirement already satisfied: spacy<3.7.0,>=3.6.0 in c:\\users\\vchemsmisl\\anaconda3\\lib\\site-packages (from ru-core-news-sm==3.6.0) (3.6.1)\n",
      "Collecting pymorphy3>=1.0.0\n",
      "  Downloading pymorphy3-1.2.0-py3-none-any.whl (55 kB)\n",
      "     -------------------------------------- 55.4/55.4 kB 320.3 kB/s eta 0:00:00\n",
      "Collecting docopt>=0.6\n",
      "  Using cached docopt-0.6.2-py2.py3-none-any.whl\n",
      "Collecting dawg-python>=0.7.1\n",
      "  Using cached DAWG_Python-0.7.2-py2.py3-none-any.whl (11 kB)\n",
      "Collecting pymorphy3-dicts-ru\n",
      "  Downloading pymorphy3_dicts_ru-2.4.417150.4580142-py2.py3-none-any.whl (8.4 MB)\n",
      "     ---------------------------------------- 8.4/8.4 MB 1.9 MB/s eta 0:00:00\n",
      "Requirement already satisfied: srsly<3.0.0,>=2.4.3 in c:\\users\\vchemsmisl\\anaconda3\\lib\\site-packages (from spacy<3.7.0,>=3.6.0->ru-core-news-sm==3.6.0) (2.4.7)\n",
      "Requirement already satisfied: typer<0.10.0,>=0.3.0 in c:\\users\\vchemsmisl\\anaconda3\\lib\\site-packages (from spacy<3.7.0,>=3.6.0->ru-core-news-sm==3.6.0) (0.9.0)\n",
      "Requirement already satisfied: murmurhash<1.1.0,>=0.28.0 in c:\\users\\vchemsmisl\\anaconda3\\lib\\site-packages (from spacy<3.7.0,>=3.6.0->ru-core-news-sm==3.6.0) (1.0.9)\n",
      "Requirement already satisfied: pathy>=0.10.0 in c:\\users\\vchemsmisl\\anaconda3\\lib\\site-packages (from spacy<3.7.0,>=3.6.0->ru-core-news-sm==3.6.0) (0.10.2)\n",
      "Requirement already satisfied: setuptools in c:\\users\\vchemsmisl\\anaconda3\\lib\\site-packages (from spacy<3.7.0,>=3.6.0->ru-core-news-sm==3.6.0) (65.6.3)\n",
      "Requirement already satisfied: numpy>=1.15.0 in c:\\users\\vchemsmisl\\anaconda3\\lib\\site-packages (from spacy<3.7.0,>=3.6.0->ru-core-news-sm==3.6.0) (1.23.5)\n",
      "Requirement already satisfied: wasabi<1.2.0,>=0.9.1 in c:\\users\\vchemsmisl\\anaconda3\\lib\\site-packages (from spacy<3.7.0,>=3.6.0->ru-core-news-sm==3.6.0) (1.1.2)\n",
      "Requirement already satisfied: jinja2 in c:\\users\\vchemsmisl\\anaconda3\\lib\\site-packages (from spacy<3.7.0,>=3.6.0->ru-core-news-sm==3.6.0) (3.1.2)\n",
      "Requirement already satisfied: langcodes<4.0.0,>=3.2.0 in c:\\users\\vchemsmisl\\anaconda3\\lib\\site-packages (from spacy<3.7.0,>=3.6.0->ru-core-news-sm==3.6.0) (3.3.0)\n",
      "Requirement already satisfied: cymem<2.1.0,>=2.0.2 in c:\\users\\vchemsmisl\\anaconda3\\lib\\site-packages (from spacy<3.7.0,>=3.6.0->ru-core-news-sm==3.6.0) (2.0.7)\n",
      "Requirement already satisfied: smart-open<7.0.0,>=5.2.1 in c:\\users\\vchemsmisl\\anaconda3\\lib\\site-packages (from spacy<3.7.0,>=3.6.0->ru-core-news-sm==3.6.0) (5.2.1)\n",
      "Requirement already satisfied: requests<3.0.0,>=2.13.0 in c:\\users\\vchemsmisl\\anaconda3\\lib\\site-packages (from spacy<3.7.0,>=3.6.0->ru-core-news-sm==3.6.0) (2.28.1)\n",
      "Requirement already satisfied: preshed<3.1.0,>=3.0.2 in c:\\users\\vchemsmisl\\anaconda3\\lib\\site-packages (from spacy<3.7.0,>=3.6.0->ru-core-news-sm==3.6.0) (3.0.8)\n",
      "Requirement already satisfied: tqdm<5.0.0,>=4.38.0 in c:\\users\\vchemsmisl\\anaconda3\\lib\\site-packages (from spacy<3.7.0,>=3.6.0->ru-core-news-sm==3.6.0) (4.64.1)\n",
      "Requirement already satisfied: packaging>=20.0 in c:\\users\\vchemsmisl\\anaconda3\\lib\\site-packages (from spacy<3.7.0,>=3.6.0->ru-core-news-sm==3.6.0) (22.0)\n",
      "Requirement already satisfied: spacy-loggers<2.0.0,>=1.0.0 in c:\\users\\vchemsmisl\\anaconda3\\lib\\site-packages (from spacy<3.7.0,>=3.6.0->ru-core-news-sm==3.6.0) (1.0.4)\n",
      "Requirement already satisfied: pydantic!=1.8,!=1.8.1,<3.0.0,>=1.7.4 in c:\\users\\vchemsmisl\\anaconda3\\lib\\site-packages (from spacy<3.7.0,>=3.6.0->ru-core-news-sm==3.6.0) (2.1.1)\n",
      "Requirement already satisfied: catalogue<2.1.0,>=2.0.6 in c:\\users\\vchemsmisl\\anaconda3\\lib\\site-packages (from spacy<3.7.0,>=3.6.0->ru-core-news-sm==3.6.0) (2.0.9)\n",
      "Requirement already satisfied: thinc<8.2.0,>=8.1.8 in c:\\users\\vchemsmisl\\anaconda3\\lib\\site-packages (from spacy<3.7.0,>=3.6.0->ru-core-news-sm==3.6.0) (8.1.12)\n",
      "Requirement already satisfied: spacy-legacy<3.1.0,>=3.0.11 in c:\\users\\vchemsmisl\\anaconda3\\lib\\site-packages (from spacy<3.7.0,>=3.6.0->ru-core-news-sm==3.6.0) (3.0.12)\n",
      "Requirement already satisfied: typing-extensions>=4.6.1 in c:\\users\\vchemsmisl\\anaconda3\\lib\\site-packages (from pydantic!=1.8,!=1.8.1,<3.0.0,>=1.7.4->spacy<3.7.0,>=3.6.0->ru-core-news-sm==3.6.0) (4.7.1)\n",
      "Requirement already satisfied: annotated-types>=0.4.0 in c:\\users\\vchemsmisl\\anaconda3\\lib\\site-packages (from pydantic!=1.8,!=1.8.1,<3.0.0,>=1.7.4->spacy<3.7.0,>=3.6.0->ru-core-news-sm==3.6.0) (0.5.0)\n",
      "Requirement already satisfied: pydantic-core==2.4.0 in c:\\users\\vchemsmisl\\anaconda3\\lib\\site-packages (from pydantic!=1.8,!=1.8.1,<3.0.0,>=1.7.4->spacy<3.7.0,>=3.6.0->ru-core-news-sm==3.6.0) (2.4.0)\n",
      "Requirement already satisfied: urllib3<1.27,>=1.21.1 in c:\\users\\vchemsmisl\\anaconda3\\lib\\site-packages (from requests<3.0.0,>=2.13.0->spacy<3.7.0,>=3.6.0->ru-core-news-sm==3.6.0) (1.26.14)\n",
      "Requirement already satisfied: charset-normalizer<3,>=2 in c:\\users\\vchemsmisl\\anaconda3\\lib\\site-packages (from requests<3.0.0,>=2.13.0->spacy<3.7.0,>=3.6.0->ru-core-news-sm==3.6.0) (2.0.4)\n",
      "Requirement already satisfied: certifi>=2017.4.17 in c:\\users\\vchemsmisl\\anaconda3\\lib\\site-packages (from requests<3.0.0,>=2.13.0->spacy<3.7.0,>=3.6.0->ru-core-news-sm==3.6.0) (2022.12.7)\n",
      "Requirement already satisfied: idna<4,>=2.5 in c:\\users\\vchemsmisl\\anaconda3\\lib\\site-packages (from requests<3.0.0,>=2.13.0->spacy<3.7.0,>=3.6.0->ru-core-news-sm==3.6.0) (3.4)\n",
      "Requirement already satisfied: confection<1.0.0,>=0.0.1 in c:\\users\\vchemsmisl\\anaconda3\\lib\\site-packages (from thinc<8.2.0,>=8.1.8->spacy<3.7.0,>=3.6.0->ru-core-news-sm==3.6.0) (0.1.1)\n",
      "Requirement already satisfied: blis<0.8.0,>=0.7.8 in c:\\users\\vchemsmisl\\anaconda3\\lib\\site-packages (from thinc<8.2.0,>=8.1.8->spacy<3.7.0,>=3.6.0->ru-core-news-sm==3.6.0) (0.7.10)\n",
      "Requirement already satisfied: colorama in c:\\users\\vchemsmisl\\anaconda3\\lib\\site-packages (from tqdm<5.0.0,>=4.38.0->spacy<3.7.0,>=3.6.0->ru-core-news-sm==3.6.0) (0.4.6)\n",
      "Requirement already satisfied: click<9.0.0,>=7.1.1 in c:\\users\\vchemsmisl\\anaconda3\\lib\\site-packages (from typer<0.10.0,>=0.3.0->spacy<3.7.0,>=3.6.0->ru-core-news-sm==3.6.0) (8.0.4)\n",
      "Requirement already satisfied: MarkupSafe>=2.0 in c:\\users\\vchemsmisl\\anaconda3\\lib\\site-packages (from jinja2->spacy<3.7.0,>=3.6.0->ru-core-news-sm==3.6.0) (2.1.1)\n",
      "Installing collected packages: pymorphy3-dicts-ru, docopt, dawg-python, pymorphy3, ru-core-news-sm\n",
      "Successfully installed dawg-python-0.7.2 docopt-0.6.2 pymorphy3-1.2.0 pymorphy3-dicts-ru-2.4.417150.4580142 ru-core-news-sm-3.6.0\n",
      "\u001b[38;5;2m[+] Download and installation successful\u001b[0m\n",
      "You can now load the package via spacy.load('ru_core_news_sm')\n"
     ]
    }
   ],
   "source": [
    "!python -m spacy download ru_core_news_sm"
   ]
  },
  {
   "cell_type": "code",
   "execution_count": 2,
   "id": "d0a6375c",
   "metadata": {},
   "outputs": [],
   "source": [
    "import spacy\n",
    "import re\n",
    "import en_core_web_sm, ru_core_news_sm"
   ]
  },
  {
   "cell_type": "markdown",
   "id": "464ac759",
   "metadata": {},
   "source": [
    "*препроцессинг текста*"
   ]
  },
  {
   "cell_type": "code",
   "execution_count": 41,
   "id": "8e430510",
   "metadata": {},
   "outputs": [],
   "source": [
    "def sentences_extraction(text: str) -> list:\n",
    "    return re.split(r'((?<=\\.|\\?|!)|(?<=\\?\\\"|!\\\"))\\s+(?![а-я])', text)\n",
    "\n",
    "def lemmatize(doc) -> list:\n",
    "    sent = [token.lemma_ for token in doc if not token.is_stop and token and token.lemma_ != ' ' and token.lemma_ != '\\n']\n",
    "    return sent if len(sent) > 2 else None"
   ]
  },
  {
   "cell_type": "code",
   "execution_count": 103,
   "id": "1f14072e",
   "metadata": {},
   "outputs": [],
   "source": [
    "def text_extraction_and_preprocessing(text_link: str, lang: str) -> list:\n",
    "    with open(text_link, 'r', encoding='utf-8') as text_link:\n",
    "        text = text_link.read()\n",
    "    if lang == 'en':\n",
    "        model = 'en_core_web_sm'\n",
    "    if lang == 'ru':\n",
    "        model = 'ru_core_news_sm'\n",
    "    nlp = spacy.load(model, disable=['ner', 'parser'])\n",
    "    \n",
    "    sentences = sentences_extraction(text)\n",
    "    pipeline = nlp.pipe(re.sub(r'[^\\w\\s]', '', sent).lower() for sent in sentences)\n",
    "    return [lemmatize(doc) for doc in pipeline if lemmatize(doc)]  "
   ]
  },
  {
   "cell_type": "code",
   "execution_count": 5,
   "id": "d59e406e",
   "metadata": {},
   "outputs": [
    {
     "data": {
      "text/plain": [
       "[['chapter',\n",
       "  '\\n',\n",
       "  'prince',\n",
       "  'genoa',\n",
       "  'lucca',\n",
       "  'family',\n",
       "  'estate',\n",
       "  'buonaparte'],\n",
       " ['warn',\n",
       "  'not',\n",
       "  'tell',\n",
       "  'mean',\n",
       "  'war',\n",
       "  'try',\n",
       "  'defend',\n",
       "  'infamy',\n",
       "  'horror',\n",
       "  'perpetrate',\n",
       "  'antichrist',\n",
       "  'believe',\n",
       "  'antichrist',\n",
       "  'long',\n",
       "  'friend',\n",
       "  'long',\n",
       "  'faithful',\n",
       "  'slave'],\n",
       " ['frighten',\n",
       "  'sit',\n",
       "  'tell',\n",
       "  'news',\n",
       "  '\\n',\n",
       "  'july',\n",
       "  '1805',\n",
       "  'speaker',\n",
       "  'wellknown',\n",
       "  'anna',\n",
       "  'pávlovna',\n",
       "  'schérer',\n",
       "  'maid',\n",
       "  'honor',\n",
       "  'favorite',\n",
       "  'empress',\n",
       "  'márya',\n",
       "  'fëdorovna'],\n",
       " ['word',\n",
       "  'greet',\n",
       "  'prince',\n",
       "  'vasíli',\n",
       "  'kurágin',\n",
       "  'man',\n",
       "  'high',\n",
       "  'rank',\n",
       "  'importance',\n",
       "  'arrive',\n",
       "  'reception'],\n",
       " ['anna', 'pávlovna', 'cough', 'day'],\n",
       " ['say', 'suffer', 'la', 'grippe', 'grippe', 'new', 'word', 'st'],\n",
       " ['invitation',\n",
       "  'exception',\n",
       "  'write',\n",
       "  'french',\n",
       "  'deliver',\n",
       "  'scarletliveried',\n",
       "  'footman',\n",
       "  'morning',\n",
       "  'run',\n",
       "  'follow',\n",
       "  '\\n',\n",
       "  'well',\n",
       "  'count',\n",
       "  'prince',\n",
       "  'prospect',\n",
       "  'spend',\n",
       "  'evening',\n",
       "  'poor',\n",
       "  'invalid',\n",
       "  'terrible',\n",
       "  'shall',\n",
       "  'charm',\n",
       "  'tonight',\n",
       "  '7',\n",
       "  '10',\n",
       "  'annette',\n",
       "  'schérer',\n",
       "  '\\n',\n",
       "  'heaven'],\n",
       " ['virulent', 'attack', 'reply', 'prince', 'disconcert', 'reception'],\n",
       " ['enter',\n",
       "  'wear',\n",
       "  'embroidered',\n",
       "  'court',\n",
       "  'uniform',\n",
       "  'knee',\n",
       "  'breech',\n",
       "  'shoe',\n",
       "  'star',\n",
       "  'breast',\n",
       "  'serene',\n",
       "  'expression',\n",
       "  'flat',\n",
       "  'face'],\n",
       " ['speak',\n",
       "  'refined',\n",
       "  'french',\n",
       "  'grandfather',\n",
       "  'speak',\n",
       "  'think',\n",
       "  'gentle',\n",
       "  'patronize',\n",
       "  'intonation',\n",
       "  'natural',\n",
       "  'man',\n",
       "  'importance',\n",
       "  'grow',\n",
       "  'old',\n",
       "  'society',\n",
       "  'court'],\n",
       " ['go',\n",
       "  'anna',\n",
       "  'pávlovna',\n",
       "  'kiss',\n",
       "  'hand',\n",
       "  'present',\n",
       "  'bald',\n",
       "  'scented',\n",
       "  'shine',\n",
       "  'head',\n",
       "  'complacently',\n",
       "  'seat',\n",
       "  'sofa'],\n",
       " ['dear', 'friend', 'tell'],\n",
       " ['set',\n",
       "  'friend',\n",
       "  'mind',\n",
       "  'rest',\n",
       "  'say',\n",
       "  'alter',\n",
       "  'tone',\n",
       "  'beneath',\n",
       "  'politeness',\n",
       "  'affected',\n",
       "  'sympathy',\n",
       "  'indifference',\n",
       "  'irony',\n",
       "  'discern'],\n",
       " ['calm', 'time', 'like', 'feeling', 'say', 'anna', 'pávlovna'],\n",
       " ['stay', 'evening', 'hope', '\\n', 'fete', 'english', 'ambassador'],\n",
       " ['appearance', 'say', 'prince'],\n",
       " ['daughter', 'come', '\\n', 'think', 'today', 'fete', 'cancel'],\n",
       " ['confess',\n",
       "  'festivity',\n",
       "  'firework',\n",
       "  'wearisome',\n",
       "  '\\n',\n",
       "  'know',\n",
       "  'wish',\n",
       "  'entertainment',\n",
       "  'say',\n",
       "  'prince',\n",
       "  'like',\n",
       "  'woundup',\n",
       "  'clock',\n",
       "  'force',\n",
       "  'habit',\n",
       "  'say',\n",
       "  'thing',\n",
       "  'wish',\n",
       "  'believe'],\n",
       " ['decide', 'novosíltsevs', 'dispatch'],\n",
       " ['know', '\\n', 'reply', 'prince', 'cold', 'listless', 'tone'],\n",
       " ['decide',\n",
       "  'buonaparte',\n",
       "  'burn',\n",
       "  'boat',\n",
       "  'believe',\n",
       "  'ready',\n",
       "  'burn',\n",
       "  '\\n',\n",
       "  'prince',\n",
       "  'vasíli',\n",
       "  'speak',\n",
       "  'languidly',\n",
       "  'like',\n",
       "  'actor',\n",
       "  'repeat',\n",
       "  'stale'],\n",
       " ['anna',\n",
       "  'pávlovna',\n",
       "  'schérer',\n",
       "  'contrary',\n",
       "  'despite',\n",
       "  'year',\n",
       "  'overflow',\n",
       "  'animation',\n",
       "  'impulsiveness'],\n",
       " ['enthusiast',\n",
       "  'social',\n",
       "  'vocation',\n",
       "  'feel',\n",
       "  'like',\n",
       "  'enthusiastic',\n",
       "  'order',\n",
       "  'disappoint',\n",
       "  'expectation',\n",
       "  'know'],\n",
       " ['subdued',\n",
       "  'smile',\n",
       "  'suit',\n",
       "  'fade',\n",
       "  'feature',\n",
       "  'play',\n",
       "  'round',\n",
       "  'lip',\n",
       "  'express',\n",
       "  'spoiled',\n",
       "  'child',\n",
       "  'continual',\n",
       "  'consciousness',\n",
       "  'charming',\n",
       "  'defect',\n",
       "  'wish',\n",
       "  'consider',\n",
       "  'necessary',\n",
       "  'correct'],\n",
       " ['midst',\n",
       "  'conversation',\n",
       "  'political',\n",
       "  'matter',\n",
       "  'anna',\n",
       "  'pávlovna',\n",
       "  'burst',\n",
       "  '\\n',\n",
       "  'oh',\n",
       "  'not',\n",
       "  'speak',\n",
       "  'austria'],\n",
       " ['not', 'understand', 'thing', 'austria', 'wish', 'wish', 'war'],\n",
       " ['russia', 'save', 'europe'],\n",
       " ['gracious', 'sovereign', 'recognize', 'high', 'vocation', 'true'],\n",
       " ['good',\n",
       "  'wonderful',\n",
       "  'sovereign',\n",
       "  'perform',\n",
       "  'noble',\n",
       "  'role',\n",
       "  'earth',\n",
       "  'virtuous',\n",
       "  'noble',\n",
       "  'god',\n",
       "  'forsake'],\n",
       " ['fulfill',\n",
       "  'vocation',\n",
       "  'crush',\n",
       "  'hydra',\n",
       "  'revolution',\n",
       "  'terrible',\n",
       "  'person',\n",
       "  'murderer',\n",
       "  'villain'],\n",
       " ['england',\n",
       "  'commercial',\n",
       "  'spirit',\n",
       "  'understand',\n",
       "  'emperor',\n",
       "  'alexander',\n",
       "  'loftiness',\n",
       "  'soul'],\n",
       " ['refuse', 'evacuate', 'malta'],\n",
       " ['want', 'find', 'seek', 'secret', 'motive', 'action'],\n",
       " ['english',\n",
       "  'understand',\n",
       "  'understand',\n",
       "  'selfabnegation',\n",
       "  'emperor',\n",
       "  'want',\n",
       "  'desire',\n",
       "  'good',\n",
       "  'mankind'],\n",
       " ['little', 'promise', 'perform'],\n",
       " ['prussia', 'declare', 'buonaparte', 'invincible', 'europe', 'powerless'],\n",
       " ['not', 'believe', 'word', 'hardenburg', 'say', 'haugwitz'],\n",
       " ['famous', 'prussian', 'neutrality', 'trap'],\n",
       " ['faith', 'god', 'lofty', 'destiny', 'adore', 'monarch'],\n",
       " ['save', 'europe', '\\n', 'suddenly', 'pause', 'smile', 'impetuosity'],\n",
       " ['think',\n",
       "  'say',\n",
       "  'prince',\n",
       "  'smile',\n",
       "  'send',\n",
       "  'instead',\n",
       "  'dear',\n",
       "  'wintzingerode',\n",
       "  'capture',\n",
       "  'king',\n",
       "  'prussia',\n",
       "  'consent',\n",
       "  'assault'],\n",
       " ['cup', 'tea', '\\n', 'moment'],\n",
       " ['à',\n",
       "  'propos',\n",
       "  'add',\n",
       "  'calm',\n",
       "  'expect',\n",
       "  'interesting',\n",
       "  'man',\n",
       "  'tonight',\n",
       "  'le',\n",
       "  'vicomte',\n",
       "  'de',\n",
       "  'mortemart',\n",
       "  'connect',\n",
       "  'montmorency',\n",
       "  'rohan',\n",
       "  'good',\n",
       "  'french',\n",
       "  'family'],\n",
       " ['genuine', 'émigrés', 'good', 'one'],\n",
       " ['know', 'profound', 'thinker'],\n",
       " ['hear', '\\n', 'shall', 'delighted', 'meet', 'say', 'prince'],\n",
       " ['tell',\n",
       "  'add',\n",
       "  'study',\n",
       "  'carelessness',\n",
       "  'occur',\n",
       "  'question',\n",
       "  'ask',\n",
       "  'chief',\n",
       "  'motive',\n",
       "  'visit',\n",
       "  'true',\n",
       "  'dowager',\n",
       "  'empress',\n",
       "  'want',\n",
       "  'baron',\n",
       "  'funke',\n",
       "  'appoint',\n",
       "  'secretary',\n",
       "  'vienna'],\n",
       " ['baron',\n",
       "  'account',\n",
       "  'poor',\n",
       "  'creature',\n",
       "  '\\n',\n",
       "  'prince',\n",
       "  'vasíli',\n",
       "  'wish',\n",
       "  'obtain',\n",
       "  'post',\n",
       "  'son',\n",
       "  'try',\n",
       "  'dowager',\n",
       "  'empress',\n",
       "  'márya',\n",
       "  'fëdorovna',\n",
       "  'secure',\n",
       "  'baron'],\n",
       " ['anna',\n",
       "  'pávlovna',\n",
       "  'close',\n",
       "  'eye',\n",
       "  'indicate',\n",
       "  'right',\n",
       "  'criticize',\n",
       "  'empress',\n",
       "  'desire',\n",
       "  'pleased'],\n",
       " ['baron',\n",
       "  'funke',\n",
       "  'recommend',\n",
       "  'dowager',\n",
       "  'empress',\n",
       "  'sister',\n",
       "  'say',\n",
       "  'dry',\n",
       "  'mournful',\n",
       "  'tone']]"
      ]
     },
     "execution_count": 5,
     "metadata": {},
     "output_type": "execute_result"
    }
   ],
   "source": [
    "eng_wap = text_extraction_and_preprocessing(\"C:/Users/vchemsmisl/Desktop/programming/war_and_peace.txt\", 'en')\n",
    "eng_wap[:50]"
   ]
  },
  {
   "cell_type": "code",
   "execution_count": 6,
   "id": "0af7fc51",
   "metadata": {},
   "outputs": [
    {
     "data": {
      "text/plain": [
       "['сторона',\n",
       " 'являться',\n",
       " 'страх',\n",
       " 'жалость',\n",
       " 'век',\n",
       " 'воздвигнутое',\n",
       " 'здание',\n",
       " 'страсть',\n",
       " 'разрушение']"
      ]
     },
     "execution_count": 6,
     "metadata": {},
     "output_type": "execute_result"
    }
   ],
   "source": [
    "rus_wap = text_extraction_and_preprocessing(\"C:/Users/vchemsmisl/Desktop/programming/voina_i_mir.txt\", 'ru') \n",
    "rus_wap[-10]"
   ]
  },
  {
   "cell_type": "markdown",
   "id": "2b1a160c",
   "metadata": {},
   "source": [
    "*штука, которая позволит объединять некоторые сочетания слов, которые обозначают одно понятие, в один токен:*\n",
    "\n",
    "*например, имя и фамилию*"
   ]
  },
  {
   "cell_type": "code",
   "execution_count": 7,
   "id": "5bf9d1f1",
   "metadata": {},
   "outputs": [],
   "source": [
    "from gensim.models.phrases import Phrases, Phraser"
   ]
  },
  {
   "cell_type": "code",
   "execution_count": 8,
   "id": "25ce06ee",
   "metadata": {},
   "outputs": [
    {
     "data": {
      "text/plain": [
       "{'anna_pávlovna': 492.92915503154416,\n",
       " 'prince_vasíli': 72.76153651854587,\n",
       " 'kiss_hand': 10.75022104332449,\n",
       " '\\n_oh': 11.547535320913184,\n",
       " 'not_understand': 10.791568047337277,\n",
       " 'emperor_alexander': 43.984237726098186,\n",
       " 'close_eye': 15.88086019498997,\n",
       " 'princess_mary': 138.54257871724064,\n",
       " 'thousand_ruble': 142.96394504769333,\n",
       " 'drawing_room': 175.81813125695217,\n",
       " 'prince_vasílis': 27.45664563768012,\n",
       " 'little_princess': 17.92049445397915,\n",
       " 'thank_god': 33.4582800982801,\n",
       " 'old_man': 17.038053385228686,\n",
       " 'young_man': 21.318087913547938,\n",
       " 'look_round': 17.23102194818939,\n",
       " 'turn_away': 26.1066919316855,\n",
       " 'expression_face': 13.170767564221602,\n",
       " 'enter_room': 16.549682395644282,\n",
       " 'prince_hippolyte': 15.92485446985447,\n",
       " 'dear_fellow': 91.40131118881119,\n",
       " 'shrug_shoulder': 473.26876737720113,\n",
       " 'prince_andrew': 81.37342064347794,\n",
       " 'anna_mikháylovna': 474.44431171786124,\n",
       " 'will_not': 130.5233325219085,\n",
       " 'commander_chief': 237.90615635761884,\n",
       " 'yes_yes': 26.267350796651364,\n",
       " 'long_time': 21.931522642139978,\n",
       " 'prince_andrews': 65.86205243705243,\n",
       " 'mon_cher': 591.0381944444445,\n",
       " 'hold_hand': 11.670026052378994,\n",
       " 'young_lady': 18.703329304472035,\n",
       " 'leave_room': 12.73172365088642,\n",
       " 'old_count': 10.16366328711831,\n",
       " 'answer_question': 17.466501865671642,\n",
       " 'sitting_room': 67.82124746450305,\n",
       " 'give_order': 18.75722463732183,\n",
       " 'ilyá_rostóv': 15.263540172166428,\n",
       " 'utter_word': 17.90522440392707,\n",
       " 'pace_room': 21.685790725326992,\n",
       " 'shake_head': 50.97813755196956,\n",
       " 'márya_dmítrievna': 1166.216385954896,\n",
       " 'remain_silent': 23.79354207436399,\n",
       " 'dear_sir': 20.63093891402715,\n",
       " 'eye_fix': 18.668457995174382,\n",
       " 'take_place': 23.041988049825786,\n",
       " 'long_ago': 49.50337353135058,\n",
       " 'minute_later': 152.86843286933095,\n",
       " 'bald_hill': 548.4616800920599,\n",
       " 'old_prince': 11.099734562834193,\n",
       " 'mademoiselle_bourienne': 958.9802816901409,\n",
       " 'door_open': 14.612327238389561,\n",
       " 'michael_ivánovich': 793.5617715617716,\n",
       " 'thousand_man': 10.520671863372618,\n",
       " 'fall_asleep': 115.01283783783785,\n",
       " 'ha_ha': 156.30762167125803,\n",
       " 'dressing_gown': 607.925,\n",
       " 'russian_army': 39.11865217391304,\n",
       " 'regimental_commander': 183.42564655172413,\n",
       " 'field_marshal': 33.9419740777667,\n",
       " 'staff_officer': 29.882642089093704,\n",
       " 'right_flank': 11.503097335165455,\n",
       " 'bow_head': 10.032061293649624,\n",
       " 'run_away': 18.645010296329833,\n",
       " 'cannon_ball': 148.79283216783216,\n",
       " 'left_flank': 268.22492756569915,\n",
       " 'prince_bagratión': 14.74523562023562,\n",
       " 'o_lord': 97.88326624496837,\n",
       " 'french_army': 12.621280276816607,\n",
       " 'point_view': 34.51038034222691,\n",
       " 'carry_away': 13.273701630651395,\n",
       " 'shout_hurrah': 20.63260606060606,\n",
       " 'oh_yes': 28.247427812811154,\n",
       " 'count_ilyá': 36.88865291262136,\n",
       " 'count_rostopchín': 52.463861920172604,\n",
       " 'serene_highness': 1076.7159286946521,\n",
       " 'battle_borodinó': 123.85465174628663,\n",
       " 'de_beausset': 239.74507042253524,\n",
       " 'kalúga_road': 28.398231564898232,\n",
       " 'mávra_kuzmínichna': 1091.1474358974358,\n",
       " 'countess_mary': 18.17308214923519}"
      ]
     },
     "execution_count": 8,
     "metadata": {},
     "output_type": "execute_result"
    }
   ],
   "source": [
    "eng_phrases = Phrases(eng_wap, min_count=20)\n",
    "eng_bigram = Phraser(eng_phrases)\n",
    "eng_phrases.find_phrases(eng_wap)"
   ]
  },
  {
   "cell_type": "code",
   "execution_count": 9,
   "id": "9a468828",
   "metadata": {},
   "outputs": [
    {
     "data": {
      "text/plain": [
       "{'eh_bien': 375.55168269230774,\n",
       " 'de_la': 41.93398054343505,\n",
       " 'je_vous': 93.89497408158665,\n",
       " 'je_ne': 111.90222938490464,\n",
       " 'que_je': 71.81417797888386,\n",
       " 'анна_павловна': 509.6454626334519,\n",
       " 'князь_василий': 85.13010090817356,\n",
       " 'анна_павлович': 261.0220039095785,\n",
       " 'à_la': 35.488269080996886,\n",
       " 'анна_павловны': 191.3038686717943,\n",
       " 'император_александр': 165.14595806336968,\n",
       " 'закрыть_глаз': 50.118736842105264,\n",
       " '\\n_3': 81.11418558306801,\n",
       " '\\n_4': 68.9943693207183,\n",
       " '\\n_2': 92.10584350084979,\n",
       " 'je_suis': 153.16617647058823,\n",
       " 'взять_рука': 23.007068698917607,\n",
       " 'маленький_княгиня': 243.02686438856654,\n",
       " 'князь_ипполит': 23.12175580221998,\n",
       " 'слава_бог': 29.120130475302886,\n",
       " 'ни_разу': 78.54675716440423,\n",
       " 'молодой_человек': 36.00013001385757,\n",
       " 'граф_безухов': 22.223709077607754,\n",
       " 'первый_раз': 61.227137365314846,\n",
       " 'выражение_лицо': 24.223374243259396,\n",
       " 'разный_сторона': 69.62098930481282,\n",
       " 'опустить_глаз': 21.36471794871795,\n",
       " 'друг_друга': 455.80153394992107,\n",
       " 'князь_андрей': 98.41887581453419,\n",
       " 'князь_василья': 25.36869758864261,\n",
       " 'que_vous': 24.118626584143826,\n",
       " 'анна_михаилович': 359.4193896257953,\n",
       " 'анна_михайловна': 441.9303312346017,\n",
       " 'mon_cher': 600.4496757146289,\n",
       " 'il_faut': 158.2872340425532,\n",
       " 'бог_знать': 13.114127915295466,\n",
       " 'глаз_смотреть': 18.756557575757576,\n",
       " 'держать_рука': 13.043377530095022,\n",
       " 'обратить_внимание': 123.77064765300061,\n",
       " 'кивнуть_голова': 57.33403060662777,\n",
       " 'оба_сторона': 38.913072356677326,\n",
       " 'ma_chère': 249.8672530987605,\n",
       " 'старый_граф': 23.006923494439746,\n",
       " 'два_раз': 11.751894360113539,\n",
       " 'выйти_комната': 32.06786817826943,\n",
       " 'отвечать_вопрос': 11.107876073161629,\n",
       " 'опустить_голова': 41.01588343397217,\n",
       " 'наклонить_голова': 44.43387372013652,\n",
       " 'ce_que': 28.68517447464816,\n",
       " 'целый_день': 31.19637575349133,\n",
       " 'ходить_комната': 12.392527812481408,\n",
       " 'войти_комната': 44.87865429234339,\n",
       " 'больший_часть': 18.319057250901416,\n",
       " 'vous_êtes': 92.0893015030946,\n",
       " 'марья_дмитриевна': 57.00766283524904,\n",
       " 'марья_дмитриевич': 199.00856844305122,\n",
       " 'звук_голос': 13.559271283390697,\n",
       " 'поднять_голова': 33.73082384594305,\n",
       " 'обращать_внимание': 124.58492822966507,\n",
       " 'друг_другу': 162.89814271749756,\n",
       " 'лысый_гора': 637.8301717699776,\n",
       " 'николай_андреевич': 87.95622723833988,\n",
       " 'старый_князь': 19.44560960539125,\n",
       " 'третий_день': 10.438787271360562,\n",
       " 'княжна_марья': 175.9658494452196,\n",
       " 'большею_часть': 107.5590361445783,\n",
       " 'le_prince': 36.43942972098312,\n",
       " 'mlle_bourienne': 1149.745953606325,\n",
       " 'расположение_дух': 123.501581027668,\n",
       " 'княжна_марье': 142.24032903512673,\n",
       " 'княжны_марья': 38.868861024033436,\n",
       " 'михаил_иванович': 144.65694444444446,\n",
       " 'княжну_марь': 979.687242798354,\n",
       " 'последний_время': 18.13809984520124,\n",
       " 'русский_войско': 37.063698616961936,\n",
       " 'главный_квартира': 154.34361396684264,\n",
       " 'полковой_командир': 948.1923186344239,\n",
       " 'быстрый_шаг': 78.37534803220709,\n",
       " 'русский_армия': 37.87543852143407,\n",
       " 'левый_фланг': 588.2395348837209,\n",
       " 'князь_багратион': 26.274722502522703,\n",
       " 'поле_сражение': 100.72823984526113,\n",
       " 'французский_войско': 21.24704202366381,\n",
       " 'военный_министр': 125.29684210526315,\n",
       " 'точка_зрение': 516.8883374689826,\n",
       " 'час_утро': 15.430074074074074,\n",
       " 'французский_армия': 10.501411574914297,\n",
       " 'княжной_марья': 70.76813317479191,\n",
       " 'илья_андреевич': 1128.0604939902257,\n",
       " 'граф_илья': 97.9928152931617,\n",
       " 'граф_растопчин': 64.21968735265315,\n",
       " 'иосиф_алексеевич': 220.19661733615223,\n",
       " '1812_год': 48.62418300653595,\n",
       " '___': 2049.306712962963,\n",
       " 'исторический_лицо': 25.717910729588795,\n",
       " 'графиня_марья': 22.19090231170768}"
      ]
     },
     "execution_count": 9,
     "metadata": {},
     "output_type": "execute_result"
    }
   ],
   "source": [
    "rus_phrases = Phrases(rus_wap, min_count=20)\n",
    "rus_bigram = Phraser(rus_phrases)\n",
    "rus_phrases.find_phrases(rus_wap)"
   ]
  },
  {
   "cell_type": "code",
   "execution_count": 10,
   "id": "aace0338",
   "metadata": {},
   "outputs": [],
   "source": [
    "eng_sents = eng_bigram[eng_wap]\n",
    "rus_sents = rus_bigram[rus_wap]"
   ]
  },
  {
   "cell_type": "markdown",
   "id": "ad53a5a5",
   "metadata": {},
   "source": [
    "*игры с вортувеками*"
   ]
  },
  {
   "cell_type": "code",
   "execution_count": 11,
   "id": "2a2c9dda",
   "metadata": {},
   "outputs": [],
   "source": [
    "from gensim.models import Word2Vec"
   ]
  },
  {
   "cell_type": "code",
   "execution_count": 12,
   "id": "6a783fbd",
   "metadata": {},
   "outputs": [
    {
     "data": {
      "text/plain": [
       "(3464982, 4672300)"
      ]
     },
     "execution_count": 12,
     "metadata": {},
     "output_type": "execute_result"
    }
   ],
   "source": [
    "eng_vectors = Word2Vec(min_count=20, \n",
    "                       vector_size=200, \n",
    "                       window=3)\n",
    "eng_vectors.build_vocab(eng_sents)\n",
    "eng_vectors.train(eng_sents, total_examples=eng_vectors.corpus_count, epochs=20)"
   ]
  },
  {
   "cell_type": "code",
   "execution_count": 13,
   "id": "9a888a6a",
   "metadata": {},
   "outputs": [
    {
     "data": {
      "text/plain": [
       "(3116394, 4873420)"
      ]
     },
     "execution_count": 13,
     "metadata": {},
     "output_type": "execute_result"
    }
   ],
   "source": [
    "rus_vectors = Word2Vec(min_count=20, \n",
    "                       vector_size=200, \n",
    "                       window=3)\n",
    "rus_vectors.build_vocab(rus_sents)\n",
    "rus_vectors.train(rus_sents, total_examples=rus_vectors.corpus_count, epochs=20)"
   ]
  },
  {
   "cell_type": "markdown",
   "id": "ee3145a7",
   "metadata": {},
   "source": [
    "*пытаюсь сравнить синонимичные эквивалентны*"
   ]
  },
  {
   "cell_type": "code",
   "execution_count": 14,
   "id": "341302c0",
   "metadata": {},
   "outputs": [],
   "source": [
    "from collections import Counter"
   ]
  },
  {
   "cell_type": "code",
   "execution_count": 15,
   "id": "aef10a95",
   "metadata": {},
   "outputs": [],
   "source": [
    "# достаю частоты слов в обеих версиях ВиМ\n",
    "eng_words = [word for sent in eng_sents for word in sent]\n",
    "eng_words_count = dict(Counter(eng_words))\n",
    "eng_words_sort = sorted(eng_words_count, key=lambda a: eng_words_count[a], reverse=True)"
   ]
  },
  {
   "cell_type": "code",
   "execution_count": 16,
   "id": "0d5cf032",
   "metadata": {},
   "outputs": [],
   "source": [
    "rus_words = [word for sent in rus_sents for word in sent]\n",
    "rus_words_count = dict(Counter(rus_words))\n",
    "rus_words_sort = sorted(rus_words_count, key=lambda a: rus_words_count[a], reverse=True)"
   ]
  },
  {
   "cell_type": "markdown",
   "id": "0418ae9b",
   "metadata": {},
   "source": [
    "*можно сравнить первые 10 нарицательных синонимов*"
   ]
  },
  {
   "cell_type": "code",
   "execution_count": 17,
   "id": "646581d2",
   "metadata": {},
   "outputs": [
    {
     "data": {
      "text/plain": [
       "['\\n',\n",
       " 'say',\n",
       " 'pierre',\n",
       " 'man',\n",
       " 'come',\n",
       " 'know',\n",
       " 'look',\n",
       " 'go',\n",
       " 'natásha',\n",
       " 'face',\n",
       " 'think',\n",
       " 'prince_andrew',\n",
       " 'time',\n",
       " 'see',\n",
       " 'ask',\n",
       " 'begin',\n",
       " 'feel',\n",
       " 'not',\n",
       " 'tell',\n",
       " 'eye']"
      ]
     },
     "execution_count": 17,
     "metadata": {},
     "output_type": "execute_result"
    }
   ],
   "source": [
    "eng_words_sort[:20]"
   ]
  },
  {
   "cell_type": "code",
   "execution_count": 18,
   "id": "c6f8cbf4",
   "metadata": {},
   "outputs": [
    {
     "data": {
      "text/plain": [
       "['сказать',\n",
       " 'говорить',\n",
       " 'пьер',\n",
       " 'человек',\n",
       " '\\u2003\\n',\n",
       " 'лицо',\n",
       " 'знать',\n",
       " 'князь_андрей',\n",
       " 'наташа',\n",
       " 'рука',\n",
       " 'время',\n",
       " 'ни',\n",
       " 'глаз',\n",
       " 'дело',\n",
       " 'видеть',\n",
       " 'думать',\n",
       " 'слово',\n",
       " '\\n',\n",
       " 'ростов',\n",
       " 'жизнь']"
      ]
     },
     "execution_count": 18,
     "metadata": {},
     "output_type": "execute_result"
    }
   ],
   "source": [
    "rus_words_sort[:20]"
   ]
  },
  {
   "cell_type": "code",
   "execution_count": 31,
   "id": "b843a107",
   "metadata": {},
   "outputs": [],
   "source": [
    "import numpy as np\n",
    "from numpy.linalg import norm\n",
    "from numpy import dot"
   ]
  },
  {
   "cell_type": "code",
   "execution_count": 20,
   "id": "37b978bd",
   "metadata": {},
   "outputs": [],
   "source": [
    "def cosine_sim(vec1: numpy.ndarray, vec2: numpy.ndarray) -> float:\n",
    "    return dot(vec1, vec2) / norm(vec1)*norm(vec2)"
   ]
  },
  {
   "cell_type": "code",
   "execution_count": 21,
   "id": "bbb073cd",
   "metadata": {},
   "outputs": [
    {
     "data": {
      "text/plain": [
       "0.6525769"
      ]
     },
     "execution_count": 21,
     "metadata": {},
     "output_type": "execute_result"
    }
   ],
   "source": [
    "rus_vectors.wv.similarity('сказать', 'говорить')"
   ]
  },
  {
   "cell_type": "code",
   "execution_count": 53,
   "id": "ca1fc233",
   "metadata": {},
   "outputs": [
    {
     "data": {
      "text/plain": [
       "0.6113594"
      ]
     },
     "execution_count": 53,
     "metadata": {},
     "output_type": "execute_result"
    }
   ],
   "source": [
    "vec1 = rus_vectors.wv.get_vector('сказать')\n",
    "vec2 = rus_vectors.wv.get_vector('говорить')\n",
    "cosine_sim(vec1, vec2)"
   ]
  },
  {
   "cell_type": "code",
   "execution_count": 51,
   "id": "9da08865",
   "metadata": {},
   "outputs": [
    {
     "name": "stdout",
     "output_type": "stream",
     "text": [
      "сказать/say: 0.2713298797607422\n",
      "говорить/tell: 0.19804313778877258\n",
      "человек/man: 0.29598453640937805\n",
      "лицо/face: -0.008438773453235626\n",
      "знать/know: 0.23900270462036133\n",
      "думать/think: 0.17124046385288239\n",
      "время/time: -0.04893554747104645\n",
      "видеть/see: 0.021602217108011246\n",
      "глаз/eye: 0.02913137897849083\n",
      "слово/word: 0.04677365720272064\n"
     ]
    }
   ],
   "source": [
    "# отбираю слова вручную, так как, хотя многие и совпадают, располагаются по частоте слова по-разному\n",
    "# плюс есть несколько эквивалентов одному слову\n",
    "vec_rus1 = rus_vectors.wv.get_vector('сказать')\n",
    "vec_eng1 = eng_vectors.wv.get_vector('say')\n",
    "print(f'сказать/say: {cosine_sim(vec_rus1, vec_eng1)}')\n",
    "\n",
    "vec_rus2 = rus_vectors.wv.get_vector('говорить')\n",
    "vec_eng2 = eng_vectors.wv.get_vector('tell')\n",
    "print(f'говорить/tell: {cosine_sim(vec_rus2, vec_eng2)}')\n",
    "\n",
    "vec_rus3 = rus_vectors.wv.get_vector('человек')\n",
    "vec_eng3 = eng_vectors.wv.get_vector('man')\n",
    "print(f'человек/man: {cosine_sim(vec_rus3, vec_eng3)}')\n",
    "\n",
    "vec_rus4 = rus_vectors.wv.get_vector('лицо')\n",
    "vec_eng4 = eng_vectors.wv.get_vector('face')\n",
    "print(f'лицо/face: {cosine_sim(vec_rus4, vec_eng4)}')\n",
    "\n",
    "vec_rus5 = rus_vectors.wv.get_vector('знать')\n",
    "vec_eng5 = eng_vectors.wv.get_vector('know')\n",
    "print(f'знать/know: {cosine_sim(vec_rus5, vec_eng5)}')\n",
    "\n",
    "vec_rus6 = rus_vectors.wv.get_vector('думать')\n",
    "vec_eng6 = eng_vectors.wv.get_vector('think')\n",
    "print(f'думать/think: {cosine_sim(vec_rus6, vec_eng6)}')\n",
    "\n",
    "vec_rus7 = rus_vectors.wv.get_vector('время')\n",
    "vec_eng7 = eng_vectors.wv.get_vector('time')\n",
    "print(f'время/time: {cosine_sim(vec_rus7, vec_eng7)}')\n",
    "\n",
    "vec_rus8 = rus_vectors.wv.get_vector('видеть')\n",
    "vec_eng8 = eng_vectors.wv.get_vector('see')\n",
    "print(f'видеть/see: {cosine_sim(vec_rus8, vec_eng8)}')\n",
    "\n",
    "vec_rus9 = rus_vectors.wv.get_vector('глаз')\n",
    "vec_eng9 = eng_vectors.wv.get_vector('eye')\n",
    "print(f'глаз/eye: {cosine_sim(vec_rus9, vec_eng9)}')\n",
    "\n",
    "vec_rus10 = rus_vectors.wv.get_vector('слово')\n",
    "vec_eng10 = eng_vectors.wv.get_vector('word')\n",
    "print(f'слово/word: {cosine_sim(vec_rus10, vec_eng10)}')"
   ]
  },
  {
   "cell_type": "markdown",
   "id": "8fa0838b",
   "metadata": {},
   "source": [
    "То есть всё-таки в двух разных моделях семантика слова представляется в векторах по-разному"
   ]
  },
  {
   "cell_type": "code",
   "execution_count": 59,
   "id": "7ef45e13",
   "metadata": {},
   "outputs": [
    {
     "data": {
      "text/plain": [
       "[('повторять', 0.6359119415283203),\n",
       " ('речь', 0.634246826171875),\n",
       " ('ответ', 0.6056280136108398),\n",
       " ('значение', 0.5995104908943176),\n",
       " ('честной', 0.5737476944923401),\n",
       " ('понять', 0.5655015110969543),\n",
       " ('ответить', 0.5232985019683838),\n",
       " ('непонятный', 0.5210738182067871),\n",
       " ('бессмысленный', 0.5191851258277893),\n",
       " ('резкий', 0.51470947265625)]"
      ]
     },
     "execution_count": 59,
     "metadata": {},
     "output_type": "execute_result"
    }
   ],
   "source": [
    "# ради интереса решил посмотреть, как две модели предсказывают контекст для слова: похожие ли там по значению слова?\n",
    "# кажется очевидным, что да\n",
    "\n",
    "rus_vectors.wv.most_similar('слово')"
   ]
  },
  {
   "cell_type": "code",
   "execution_count": 58,
   "id": "f380bd08",
   "metadata": {},
   "outputs": [
    {
     "data": {
      "text/plain": [
       "[('utter', 0.5895079374313354),\n",
       " ('distinctly', 0.5688621401786804),\n",
       " ('phrase', 0.5597217082977295),\n",
       " ('prayer', 0.555141806602478),\n",
       " ('speech', 0.5416110157966614),\n",
       " ('explanation', 0.5054444074630737),\n",
       " ('approval', 0.4876050353050232),\n",
       " ('clearly', 0.4789658784866333),\n",
       " ('hardly', 0.4698318541049957),\n",
       " ('story', 0.4680580496788025)]"
      ]
     },
     "execution_count": 58,
     "metadata": {},
     "output_type": "execute_result"
    }
   ],
   "source": [
    "eng_vectors.wv.most_similar('word')"
   ]
  },
  {
   "cell_type": "markdown",
   "id": "0dc65af1",
   "metadata": {},
   "source": [
    "Видимо, всё-таки достаточно разные, по крайней мере в нескольких примерах"
   ]
  },
  {
   "cell_type": "markdown",
   "id": "834f0799",
   "metadata": {},
   "source": [
    "*теперь интересно посмотреть близость (главных) героев романа в обеих версиях*\n",
    "\n",
    "Пьер, Андрей Болконский, Наташа, старый князь, Мария Болконская, mlle Bourienne, Элен Курагина, Анатоль, князь Василий, Анна Шерер, Наполеон, Кутузов, Александр 1, Багратион, Долохов"
   ]
  },
  {
   "cell_type": "code",
   "execution_count": 29,
   "id": "d03a6aec",
   "metadata": {},
   "outputs": [],
   "source": [
    "# сначала для русской версии\n",
    "\n",
    "rus_pierre = rus_vectors.wv.get_vector('пьер')\n",
    "rus_andrew = rus_vectors.wv.get_vector('князь_андрей')\n",
    "rus_natasha = rus_vectors.wv.get_vector('наташа')\n",
    "rus_old_prince = rus_vectors.wv.get_vector('николай_андреевич')\n",
    "rus_mary = rus_vectors.wv.get_vector('княжна_марья')\n",
    "rus_mlle = rus_vectors.wv.get_vector('mlle_bourienne')\n",
    "rus_helene = rus_vectors.wv.get_vector('элен')\n",
    "rus_anatole = rus_vectors.wv.get_vector('анатоль')\n",
    "rus_vasilii = rus_vectors.wv.get_vector('князь_василий')\n",
    "rus_sherer = rus_vectors.wv.get_vector('анна_павловна')\n",
    "rus_napoleon = rus_vectors.wv.get_vector('наполеон')\n",
    "rus_alexander = rus_vectors.wv.get_vector('император_александр')\n",
    "rus_bagration = rus_vectors.wv.get_vector('князь_багратион')\n",
    "rus_kutuzov = rus_vectors.wv.get_vector('кутузов')\n",
    "rus_dolohov = rus_vectors.wv.get_vector('долохов')"
   ]
  },
  {
   "cell_type": "code",
   "execution_count": 34,
   "id": "b2047d9d",
   "metadata": {},
   "outputs": [],
   "source": [
    "rus_all_persons = np.array([rus_pierre, rus_andrew, rus_natasha, rus_old_prince,\n",
    "                           rus_mary, rus_mlle, rus_helene, rus_anatole, rus_vasilii,\n",
    "                           rus_sherer, rus_napoleon, rus_alexander, rus_bagration, rus_kutuzov, rus_dolohov])"
   ]
  },
  {
   "cell_type": "code",
   "execution_count": 36,
   "id": "50199214",
   "metadata": {},
   "outputs": [],
   "source": [
    "from sklearn.manifold import TSNE\n",
    "\n",
    "tsne = TSNE(perplexity=10)\n",
    "rus_all_persons_transformed = tsne.fit_transform(rus_all_persons)"
   ]
  },
  {
   "cell_type": "code",
   "execution_count": 42,
   "id": "2c81f43a",
   "metadata": {},
   "outputs": [],
   "source": [
    "import pandas as pd\n",
    "import matplotlib.pyplot as plt"
   ]
  },
  {
   "cell_type": "code",
   "execution_count": 45,
   "id": "bac457e2",
   "metadata": {},
   "outputs": [
    {
     "data": {
      "text/html": [
       "<div>\n",
       "<style scoped>\n",
       "    .dataframe tbody tr th:only-of-type {\n",
       "        vertical-align: middle;\n",
       "    }\n",
       "\n",
       "    .dataframe tbody tr th {\n",
       "        vertical-align: top;\n",
       "    }\n",
       "\n",
       "    .dataframe thead th {\n",
       "        text-align: right;\n",
       "    }\n",
       "</style>\n",
       "<table border=\"1\" class=\"dataframe\">\n",
       "  <thead>\n",
       "    <tr style=\"text-align: right;\">\n",
       "      <th></th>\n",
       "      <th>names</th>\n",
       "      <th>x</th>\n",
       "      <th>y</th>\n",
       "    </tr>\n",
       "  </thead>\n",
       "  <tbody>\n",
       "    <tr>\n",
       "      <th>0</th>\n",
       "      <td>Пьер</td>\n",
       "      <td>-24.852365</td>\n",
       "      <td>-38.588814</td>\n",
       "    </tr>\n",
       "    <tr>\n",
       "      <th>1</th>\n",
       "      <td>Князь Андрей</td>\n",
       "      <td>-20.735931</td>\n",
       "      <td>-19.669607</td>\n",
       "    </tr>\n",
       "    <tr>\n",
       "      <th>2</th>\n",
       "      <td>Наташа</td>\n",
       "      <td>-85.853561</td>\n",
       "      <td>5.562587</td>\n",
       "    </tr>\n",
       "    <tr>\n",
       "      <th>3</th>\n",
       "      <td>Старый князь</td>\n",
       "      <td>-78.613861</td>\n",
       "      <td>-25.590151</td>\n",
       "    </tr>\n",
       "    <tr>\n",
       "      <th>4</th>\n",
       "      <td>Княжна Марья</td>\n",
       "      <td>-53.316330</td>\n",
       "      <td>-46.555573</td>\n",
       "    </tr>\n",
       "    <tr>\n",
       "      <th>5</th>\n",
       "      <td>Mlle Bourienne</td>\n",
       "      <td>-60.472324</td>\n",
       "      <td>-5.509190</td>\n",
       "    </tr>\n",
       "    <tr>\n",
       "      <th>6</th>\n",
       "      <td>Элен</td>\n",
       "      <td>-38.032974</td>\n",
       "      <td>-0.180873</td>\n",
       "    </tr>\n",
       "    <tr>\n",
       "      <th>7</th>\n",
       "      <td>Анатоль</td>\n",
       "      <td>-45.171207</td>\n",
       "      <td>-21.064581</td>\n",
       "    </tr>\n",
       "    <tr>\n",
       "      <th>8</th>\n",
       "      <td>Князь Василий</td>\n",
       "      <td>-54.563801</td>\n",
       "      <td>13.755341</td>\n",
       "    </tr>\n",
       "    <tr>\n",
       "      <th>9</th>\n",
       "      <td>Анна Шерер</td>\n",
       "      <td>-35.446262</td>\n",
       "      <td>24.188362</td>\n",
       "    </tr>\n",
       "    <tr>\n",
       "      <th>10</th>\n",
       "      <td>Наполеон</td>\n",
       "      <td>10.828157</td>\n",
       "      <td>36.465801</td>\n",
       "    </tr>\n",
       "    <tr>\n",
       "      <th>11</th>\n",
       "      <td>Александр I</td>\n",
       "      <td>-13.723367</td>\n",
       "      <td>14.151681</td>\n",
       "    </tr>\n",
       "    <tr>\n",
       "      <th>12</th>\n",
       "      <td>Багратион</td>\n",
       "      <td>3.235322</td>\n",
       "      <td>3.475653</td>\n",
       "    </tr>\n",
       "    <tr>\n",
       "      <th>13</th>\n",
       "      <td>Кутузов</td>\n",
       "      <td>25.818569</td>\n",
       "      <td>16.180645</td>\n",
       "    </tr>\n",
       "    <tr>\n",
       "      <th>14</th>\n",
       "      <td>Долохов</td>\n",
       "      <td>6.393507</td>\n",
       "      <td>-23.352058</td>\n",
       "    </tr>\n",
       "  </tbody>\n",
       "</table>\n",
       "</div>"
      ],
      "text/plain": [
       "             names          x          y\n",
       "0             Пьер -24.852365 -38.588814\n",
       "1     Князь Андрей -20.735931 -19.669607\n",
       "2           Наташа -85.853561   5.562587\n",
       "3     Старый князь -78.613861 -25.590151\n",
       "4     Княжна Марья -53.316330 -46.555573\n",
       "5   Mlle Bourienne -60.472324  -5.509190\n",
       "6             Элен -38.032974  -0.180873\n",
       "7          Анатоль -45.171207 -21.064581\n",
       "8    Князь Василий -54.563801  13.755341\n",
       "9       Анна Шерер -35.446262  24.188362\n",
       "10        Наполеон  10.828157  36.465801\n",
       "11     Александр I -13.723367  14.151681\n",
       "12       Багратион   3.235322   3.475653\n",
       "13         Кутузов  25.818569  16.180645\n",
       "14         Долохов   6.393507 -23.352058"
      ]
     },
     "execution_count": 45,
     "metadata": {},
     "output_type": "execute_result"
    }
   ],
   "source": [
    "rus_df = pd.DataFrame({'names': \n",
    "                       ['Пьер', 'Князь Андрей', 'Наташа', 'Старый князь', 'Княжна Марья', 'Mlle Bourienne', \n",
    "                       'Элен', 'Анатоль', 'Князь Василий', 'Анна Шерер', \n",
    "                        'Наполеон', 'Александр I', 'Багратион', 'Кутузов', 'Долохов'], \n",
    "                       'x': rus_all_persons_transformed[:, 0], \n",
    "                       'y': rus_all_persons_transformed[:, 1]})\n",
    "rus_df"
   ]
  },
  {
   "cell_type": "code",
   "execution_count": 46,
   "id": "197a85b4",
   "metadata": {},
   "outputs": [
    {
     "data": {
      "image/png": "[encoded data removed]",
      "text/plain": [
       "<Figure size 640x480 with 1 Axes>"
      ]
     },
     "metadata": {},
     "output_type": "display_data"
    }
   ],
   "source": [
    "fig, ax = plt.subplots()\n",
    "ax.scatter(rus_df['x'], rus_df['y'])\n",
    "for idx, text in enumerate(rus_df['names']):\n",
    "    ax.annotate(text, (rus_df['x'][idx], rus_df['y'][idx]))"
   ]
  },
  {
   "cell_type": "code",
   "execution_count": 47,
   "id": "8b464950",
   "metadata": {},
   "outputs": [],
   "source": [
    "# проверочка на то, влияет ли скейлинг на расстояния\n",
    "\n",
    "from sklearn.preprocessing import StandardScaler\n",
    "\n",
    "scaler = StandardScaler()\n",
    "scaled_rus_df = scaler.fit_transform(rus_df[['x', 'y']])"
   ]
  },
  {
   "cell_type": "code",
   "execution_count": 49,
   "id": "8046b6a2",
   "metadata": {},
   "outputs": [
    {
     "data": {
      "image/png": "[encoded data removed]",
      "text/plain": [
       "<Figure size 640x480 with 1 Axes>"
      ]
     },
     "metadata": {},
     "output_type": "display_data"
    }
   ],
   "source": [
    "fig, ax = plt.subplots()\n",
    "ax.scatter(scaled_rus_df[:, 0], scaled_rus_df[:, 1])\n",
    "for idx, text in enumerate(rus_df['names']):\n",
    "    ax.annotate(text, (scaled_rus_df[:, 0][idx], scaled_rus_df[:, 1][idx]))"
   ]
  },
  {
   "cell_type": "code",
   "execution_count": 54,
   "id": "da271e75",
   "metadata": {},
   "outputs": [],
   "source": [
    "# теперь для английской версии\n",
    "\n",
    "eng_pierre = eng_vectors.wv.get_vector('pierre')\n",
    "eng_andrew = eng_vectors.wv.get_vector('prince_andrew')\n",
    "eng_natasha = eng_vectors.wv.get_vector('natásha')\n",
    "eng_old_prince = eng_vectors.wv.get_vector('old_prince')\n",
    "eng_mary = eng_vectors.wv.get_vector('princess_mary')\n",
    "eng_mlle = eng_vectors.wv.get_vector('mademoiselle_bourienne')\n",
    "eng_helene = eng_vectors.wv.get_vector('hélène')\n",
    "eng_anatole = eng_vectors.wv.get_vector('anatole')\n",
    "eng_vasilii = eng_vectors.wv.get_vector('prince_vasíli')\n",
    "eng_sherer = eng_vectors.wv.get_vector('anna_pávlovna')\n",
    "eng_napoleon = eng_vectors.wv.get_vector('napoleon')\n",
    "eng_alexander = eng_vectors.wv.get_vector('emperor_alexander')\n",
    "eng_bagration = eng_vectors.wv.get_vector('prince_bagratión')\n",
    "eng_kutuzov = eng_vectors.wv.get_vector('kutúzov')\n",
    "eng_dolohov = eng_vectors.wv.get_vector('dólokhov')"
   ]
  },
  {
   "cell_type": "code",
   "execution_count": 58,
   "id": "b870439c",
   "metadata": {},
   "outputs": [],
   "source": [
    "eng_all_persons = np.array([eng_pierre, eng_andrew, eng_natasha, eng_old_prince,\n",
    "                           eng_mary, eng_mlle, eng_helene, eng_anatole, eng_vasilii,\n",
    "                           eng_sherer, eng_napoleon, eng_alexander, eng_bagration, eng_kutuzov, eng_dolohov])\n",
    "names = ['Пьер', 'Князь Андрей', 'Наташа', 'Старый князь', 'Княжна Марья', 'Mlle Bourienne', \n",
    "                       'Элен', 'Анатоль', 'Князь Василий', 'Анна Шерер', \n",
    "                        'Наполеон', 'Александр I', 'Багратион', 'Кутузов', 'Долохов']"
   ]
  },
  {
   "cell_type": "code",
   "execution_count": 56,
   "id": "34aa3d5c",
   "metadata": {},
   "outputs": [],
   "source": [
    "tsne = TSNE(perplexity=10)\n",
    "eng_all_persons_transformed = tsne.fit_transform(eng_all_persons)"
   ]
  },
  {
   "cell_type": "code",
   "execution_count": 59,
   "id": "cd3f51aa",
   "metadata": {},
   "outputs": [
    {
     "data": {
      "image/png": "[encoded data removed]",
      "text/plain": [
       "<Figure size 640x480 with 1 Axes>"
      ]
     },
     "metadata": {},
     "output_type": "display_data"
    }
   ],
   "source": [
    "fig, ax = plt.subplots()\n",
    "ax.scatter(eng_all_persons_transformed[:, 0], eng_all_persons_transformed[:, 1])\n",
    "for idx, text in enumerate(names):\n",
    "    ax.annotate(text, (eng_all_persons_transformed[:, 0][idx], eng_all_persons_transformed[:, 1][idx]))"
   ]
  },
  {
   "cell_type": "markdown",
   "id": "f80092d0",
   "metadata": {},
   "source": [
    "Получается интересно, что в обоих графиках более-менее выделяются кластеры, соответствующие группам героев в произведении (исторические личности-полководцы, семья Курагиных+Анна Шерер, семья Болконских и отдельно Наташа), однако располагаются они по-разному (ну, что логично) и встречаются отдельные отличия: в англ. версии Наполеон не входит в группу к русским полководцам, Наташа оказывается ближе к историческим персонажам, чем к семьям Болконских и Курагиных."
   ]
  },
  {
   "cell_type": "markdown",
   "id": "c4eec999",
   "metadata": {},
   "source": [
    "**2. LSA на главах Война и мир**"
   ]
  },
  {
   "cell_type": "code",
   "execution_count": 70,
   "id": "d5156a9e",
   "metadata": {},
   "outputs": [],
   "source": [
    "import numpy as np"
   ]
  },
  {
   "cell_type": "code",
   "execution_count": 114,
   "id": "b5f21c5f",
   "metadata": {},
   "outputs": [],
   "source": [
    "def text_split_and_preprocessing(text_link: str, lang: str) -> list:\n",
    "    with open(text_link, 'r', encoding='utf-8') as text_link:\n",
    "        text = text_link.read()\n",
    "    if lang == 'en':\n",
    "        model = 'en_core_web_sm'\n",
    "        texts_list = re.split(r'BOOK \\w+:', text)\n",
    "        texts_list.extend(re.split(r'\\w+ EPILOGUE', texts_list[-1]))\n",
    "    if lang == 'ru':\n",
    "        model = 'ru_core_news_sm'\n",
    "        texts_list = re.split(r'ЧАСТЬ \\w+', text)\n",
    "       \n",
    "    nlp = spacy.load(model, disable=['ner', 'parser'])\n",
    "    nlp.max_length = 3000000\n",
    "    \n",
    "    pipeline = nlp.pipe(re.sub(r'[^\\w\\s]', '', txt).lower() for txt in texts_list)\n",
    "    return [' '.join(lemmatize(doc)) for doc in pipeline if lemmatize(doc)] "
   ]
  },
  {
   "cell_type": "code",
   "execution_count": null,
   "id": "a7177458",
   "metadata": {},
   "outputs": [],
   "source": [
    "corpus = text_split_and_preprocessing(\"C:/Users/vchemsmisl/Desktop/programming/war_and_peace.txt\", 'en')"
   ]
  },
  {
   "cell_type": "code",
   "execution_count": 82,
   "id": "82778ff3",
   "metadata": {},
   "outputs": [],
   "source": [
    "# я слишком поздно заметил, что два текста в корпусе совпали\n",
    "del corpus[-4]"
   ]
  },
  {
   "cell_type": "code",
   "execution_count": 83,
   "id": "081256d5",
   "metadata": {},
   "outputs": [
    {
     "data": {
      "text/plain": [
       "17"
      ]
     },
     "execution_count": 83,
     "metadata": {},
     "output_type": "execute_result"
    }
   ],
   "source": [
    "len(corpus)"
   ]
  },
  {
   "cell_type": "code",
   "execution_count": 84,
   "id": "5f388f5e",
   "metadata": {},
   "outputs": [],
   "source": [
    "from sklearn.feature_extraction.text import TfidfVectorizer\n",
    "\n",
    "vectorizer = TfidfVectorizer()\n",
    "tfidf_matrix = vectorizer.fit_transform(corpus).todense().T"
   ]
  },
  {
   "cell_type": "code",
   "execution_count": 85,
   "id": "9b2223ab",
   "metadata": {},
   "outputs": [],
   "source": [
    "from numpy.linalg import svd\n",
    "\n",
    "U, S, Vt = svd(tfidf_matrix)"
   ]
  },
  {
   "cell_type": "code",
   "execution_count": 86,
   "id": "8746b87e",
   "metadata": {},
   "outputs": [
    {
     "data": {
      "text/plain": [
       "((13621, 13621), (17,), (17, 17))"
      ]
     },
     "execution_count": 86,
     "metadata": {},
     "output_type": "execute_result"
    }
   ],
   "source": [
    "U.shape, S.shape, Vt.shape"
   ]
  },
  {
   "cell_type": "code",
   "execution_count": 87,
   "id": "ae1ecab2",
   "metadata": {},
   "outputs": [
    {
     "data": {
      "text/plain": [
       "array([[-0.2627785 , -0.22896735],\n",
       "       [ 0.21591113, -0.20271491],\n",
       "       [-0.02265185, -0.39933555],\n",
       "       [ 0.23878435,  0.15117386],\n",
       "       [-0.01148692, -0.35167399],\n",
       "       [ 0.19954711, -0.07422933],\n",
       "       [-0.0815235 , -0.33820305],\n",
       "       [ 0.20573678, -0.25356426],\n",
       "       [-0.14195279,  0.19136386],\n",
       "       [ 0.03051348,  0.09903187],\n",
       "       [-0.4811974 ,  0.45960084],\n",
       "       [ 0.08071256,  0.01105025],\n",
       "       [-0.18792243, -0.1078428 ],\n",
       "       [-0.21137946, -0.25119745],\n",
       "       [-0.31517026, -0.06410552],\n",
       "       [ 0.54595086,  0.2384611 ],\n",
       "       [-0.03655403,  0.15103492]])"
      ]
     },
     "execution_count": 87,
     "metadata": {},
     "output_type": "execute_result"
    }
   ],
   "source": [
    "# двумерное сингулярное разложение векторов частей романа\n",
    "Vt_2D = np.array(Vt[:, :2])\n",
    "Vt_2D"
   ]
  },
  {
   "cell_type": "code",
   "execution_count": 90,
   "id": "276f4640",
   "metadata": {},
   "outputs": [
    {
     "data": {
      "image/png": "[encoded data removed]",
      "text/plain": [
       "<Figure size 640x480 with 1 Axes>"
      ]
     },
     "metadata": {},
     "output_type": "display_data"
    }
   ],
   "source": [
    "import matplotlib.pyplot as plt\n",
    "\n",
    "books = ['1st book', '2nd book', '3rd book', '4th book', \n",
    "         '5th book', '6th book', '7th book', '8th book', \n",
    "         '9th book', '10th book', '11th book', '12th book', \n",
    "         '13th book', '14th book', '15th book', '1st epilogue', '2nd epilogue']\n",
    "fig, ax = plt.subplots()\n",
    "ax.scatter(Vt_2D[:, 0], Vt_2D[:, 1])\n",
    "for i, t in enumerate(books):\n",
    "    ax.annotate(t, (Vt_2D[i, 0], Vt_2D[i, 1]))\n",
    "    \n",
    "plt.show()"
   ]
  },
  {
   "cell_type": "markdown",
   "id": "cc615dc9",
   "metadata": {},
   "source": [
    "К сожалению, плохо получается оценить правильность алгоритма и результата, так как близость тех или иных частей романа не удаётся объяснить их тематикой (возможно, в том числе потому, что в одном тексте может встречаться несколько тем: например, \"филосовские главы\" находятся в тех же частях, что сюжетные). "
   ]
  },
  {
   "cell_type": "code",
   "execution_count": 115,
   "id": "ffc8294e",
   "metadata": {},
   "outputs": [],
   "source": [
    "rus_corpus = text_split_and_preprocessing(\"C:/Users/vchemsmisl/Desktop/programming/voina_i_mir.txt\", 'ru') "
   ]
  },
  {
   "cell_type": "code",
   "execution_count": 154,
   "id": "e3d5258e",
   "metadata": {},
   "outputs": [],
   "source": [
    "vectorizer = TfidfVectorizer()\n",
    "tfidf_matrix = vectorizer.fit_transform(rus_corpus).todense().T"
   ]
  },
  {
   "cell_type": "code",
   "execution_count": 155,
   "id": "702b0560",
   "metadata": {},
   "outputs": [],
   "source": [
    "U, S, Vt = svd(tfidf_matrix)"
   ]
  },
  {
   "cell_type": "code",
   "execution_count": 156,
   "id": "5bba792f",
   "metadata": {},
   "outputs": [],
   "source": [
    "Vt_2D = np.array(Vt[:, :2])"
   ]
  },
  {
   "cell_type": "code",
   "execution_count": 157,
   "id": "5120e728",
   "metadata": {},
   "outputs": [
    {
     "data": {
      "image/png": "[encoded data removed]",
      "text/plain": [
       "<Figure size 640x480 with 1 Axes>"
      ]
     },
     "metadata": {},
     "output_type": "display_data"
    }
   ],
   "source": [
    "books = ['1 ТОМ первая часть', '1 ТОМ вторая часть', '1 ТОМ третья часть', '2 ТОМ первая часть', \n",
    "         '2 ТОМ вторая часть', '2 ТОМ третья часть', '2 ТОМ четёртая часть', '2 ТОМ пятая часть', \n",
    "         '3 ТОМ первая часть', '3 ТОМ вторая часть', '3 ТОМ третья часть', '4 ТОМ первая часть', \n",
    "         '4 ТОМ вторая часть', '4 ТОМ третья часть', '4 ТОМ четвёртая часть', \n",
    "         'ЭПИЛОГ первая часть', 'ЭПИЛОГ вторая часть']\n",
    "fig, ax = plt.subplots()\n",
    "ax.scatter(Vt_2D[:, 0], Vt_2D[:, 1])\n",
    "for i, t in enumerate(books):\n",
    "    ax.annotate(t, (Vt_2D[i, 0], Vt_2D[i, 1]))"
   ]
  },
  {
   "cell_type": "markdown",
   "id": "57d45df4",
   "metadata": {},
   "source": [
    "О как..."
   ]
  },
  {
   "cell_type": "markdown",
   "id": "a5e16a06",
   "metadata": {},
   "source": [
    "Ну в общем, эксперимент удался плохо). Пожалуй, из-за того, что тексты частей одного романа всё-таки близки, содержат схожую лексику в примерно равных частотах."
   ]
  }
 ],
 "metadata": {
  "kernelspec": {
   "display_name": "Python 3 (ipykernel)",
   "language": "python",
   "name": "python3"
  },
  "language_info": {
   "codemirror_mode": {
    "name": "ipython",
    "version": 3
   },
   "file_extension": ".py",
   "mimetype": "text/x-python",
   "name": "python",
   "nbconvert_exporter": "python",
   "pygments_lexer": "ipython3",
   "version": "3.10.9"
  }
 },
 "nbformat": 4,
 "nbformat_minor": 5
}
